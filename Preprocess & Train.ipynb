{
 "cells": [
  {
   "cell_type": "code",
   "execution_count": 1,
   "metadata": {},
   "outputs": [],
   "source": [
    "import numpy as np\n",
    "import math\n",
    "from sklearn.model_selection import train_test_split, cross_validate\n",
    "from sklearn.tree import DecisionTreeClassifier\n",
    "from sklearn.externals import joblib\n",
    "%matplotlib inline"
   ]
  },
  {
   "cell_type": "code",
   "execution_count": 2,
   "metadata": {},
   "outputs": [],
   "source": [
    "motions = ['nothing', 'unarmed-attack-r3']\n",
    "data_files = {motion: 'data/{}.txt'.format(motion) for motion in motions}"
   ]
  },
  {
   "cell_type": "code",
   "execution_count": 3,
   "metadata": {},
   "outputs": [],
   "source": [
    "# Load training data\n",
    "data = {motion: np.loadtxt(file_name) for motion, file_name in data_files.items()}"
   ]
  },
  {
   "cell_type": "code",
   "execution_count": 4,
   "metadata": {},
   "outputs": [
    {
     "name": "stdout",
     "output_type": "stream",
     "text": [
      "nothing: \n",
      "    shape: (109, 1062)\n",
      "unarmed-attack-r3: \n",
      "    shape: (115, 1086)\n"
     ]
    }
   ],
   "source": [
    "# Statistics about training data\n",
    "for motion in motions:\n",
    "    print(\"{}: \".format(motion))\n",
    "    print('    shape: {}'.format(data[motion].shape))"
   ]
  },
  {
   "cell_type": "markdown",
   "metadata": {},
   "source": [
    "### Preprocess"
   ]
  },
  {
   "cell_type": "code",
   "execution_count": 5,
   "metadata": {},
   "outputs": [
    {
     "name": "stdout",
     "output_type": "stream",
     "text": [
      "nothing: \n",
      "    regularized shape: (109, 64, 6)\n",
      "unarmed-attack-r3: \n",
      "    regularized shape: (115, 64, 6)\n"
     ]
    }
   ],
   "source": [
    "def regularize_shape(data, num_samples):\n",
    "    '''\n",
    "    return num_samples of entries in data,\n",
    "    (Note: data are groups of 6dof measurements)\n",
    "    '''\n",
    "    data = data.reshape(data.shape[0], -1, 6)\n",
    "    length = data.shape[1]\n",
    "    assert(num_samples <= length)\n",
    "    # step = math.ceil(data.shape[1]//num_samples)\n",
    "    result = []\n",
    "    for data_instance in data:\n",
    "        result_instance = []\n",
    "        for i in range(num_samples):\n",
    "            result_instance.append(data_instance[int(math.ceil(i*length/num_samples))])\n",
    "        result.append(np.asarray(result_instance))\n",
    "    return np.asarray(result)\n",
    "NUM_SAMPLES = 64\n",
    "data_regularized = {key: regularize_shape(val, NUM_SAMPLES) for key, val in data.items()}\n",
    "for motion in motions:\n",
    "    print(\"{}: \".format(motion))\n",
    "    print('    regularized shape: {}'.format(data_regularized[motion].shape))"
   ]
  },
  {
   "cell_type": "code",
   "execution_count": 6,
   "metadata": {},
   "outputs": [],
   "source": [
    "# Return X and y\n",
    "def raw_data(data_dict, keys):\n",
    "    lengths = [data_dict[key].shape[0] for key in keys]\n",
    "    data_y = []\n",
    "    for i in range(len(lengths)):\n",
    "        data_y.extend([i]*lengths[i])\n",
    "    data_y = np.asarray(data_y).reshape(-1, 1)\n",
    "    data_X = np.concatenate([data_dict[key] for key in keys])\n",
    "    assert(data_y.shape[0] == data_X.shape[0])\n",
    "    return data_X, data_y\n",
    "data_X, data_y = raw_data(data_regularized, motions)"
   ]
  },
  {
   "cell_type": "code",
   "execution_count": 7,
   "metadata": {},
   "outputs": [],
   "source": [
    "def flatten(X):\n",
    "    return X.reshape(X.shape[0], -1)\n",
    "data_X_flattened = flatten(data_X)"
   ]
  },
  {
   "cell_type": "code",
   "execution_count": 8,
   "metadata": {},
   "outputs": [],
   "source": [
    "X_train, X_test, y_train, y_test = train_test_split(data_X_flattened, data_y, test_size=0.1, random_state=0)"
   ]
  },
  {
   "cell_type": "markdown",
   "metadata": {},
   "source": [
    "### Neural Network Model"
   ]
  },
  {
   "cell_type": "code",
   "execution_count": 9,
   "metadata": {},
   "outputs": [
    {
     "name": "stderr",
     "output_type": "stream",
     "text": [
      "Using TensorFlow backend.\n",
      "/Library/Frameworks/Python.framework/Versions/3.6/lib/python3.6/importlib/_bootstrap.py:205: RuntimeWarning: compiletime version 3.5 of module 'tensorflow.python.framework.fast_tensor_util' does not match runtime version 3.6\n",
      "  return f(*args, **kwds)\n"
     ]
    }
   ],
   "source": [
    "from keras.models import Sequential\n",
    "from keras.layers import Dense\n",
    "from keras.utils import to_categorical"
   ]
  },
  {
   "cell_type": "code",
   "execution_count": 10,
   "metadata": {},
   "outputs": [],
   "source": [
    "y_train_categorical = to_categorical(y_train)\n",
    "y_test_categorical = to_categorical(y_test)"
   ]
  },
  {
   "cell_type": "code",
   "execution_count": 25,
   "metadata": {},
   "outputs": [
    {
     "name": "stdout",
     "output_type": "stream",
     "text": [
      "_________________________________________________________________\n",
      "Layer (type)                 Output Shape              Param #   \n",
      "=================================================================\n",
      "dense_7 (Dense)              (None, 4)                 1540      \n",
      "_________________________________________________________________\n",
      "dense_8 (Dense)              (None, 2)                 10        \n",
      "=================================================================\n",
      "Total params: 1,550\n",
      "Trainable params: 1,550\n",
      "Non-trainable params: 0\n",
      "_________________________________________________________________\n"
     ]
    }
   ],
   "source": [
    "model = Sequential()\n",
    "model.add(Dense(4, input_shape=X_train.shape[1:], activation='relu'))\n",
    "model.add(Dense(len(motions), activation='softmax'))\n",
    "model.summary()\n",
    "model.compile(loss='categorical_crossentropy', optimizer='Adam', metrics=['accuracy'])"
   ]
  },
  {
   "cell_type": "code",
   "execution_count": 35,
   "metadata": {},
   "outputs": [
    {
     "name": "stdout",
     "output_type": "stream",
     "text": [
      "Train on 180 samples, validate on 21 samples\n",
      "Epoch 1/40\n",
      "180/180 [==============================] - 0s 24us/step - loss: 0.0336 - acc: 0.9833 - val_loss: 0.3068 - val_acc: 0.9048\n",
      "Epoch 2/40\n",
      "180/180 [==============================] - 0s 25us/step - loss: 0.0335 - acc: 0.9833 - val_loss: 0.3072 - val_acc: 0.9048\n",
      "Epoch 3/40\n",
      "180/180 [==============================] - 0s 23us/step - loss: 0.0335 - acc: 0.9833 - val_loss: 0.3077 - val_acc: 0.9048\n",
      "Epoch 4/40\n",
      "180/180 [==============================] - 0s 23us/step - loss: 0.0334 - acc: 0.9833 - val_loss: 0.3081 - val_acc: 0.9048\n",
      "Epoch 5/40\n",
      "180/180 [==============================] - 0s 32us/step - loss: 0.0334 - acc: 0.9833 - val_loss: 0.3086 - val_acc: 0.9048\n",
      "Epoch 6/40\n",
      "180/180 [==============================] - 0s 23us/step - loss: 0.0334 - acc: 0.9833 - val_loss: 0.3090 - val_acc: 0.9048\n",
      "Epoch 7/40\n",
      "180/180 [==============================] - 0s 34us/step - loss: 0.0333 - acc: 0.9833 - val_loss: 0.3094 - val_acc: 0.9048\n",
      "Epoch 8/40\n",
      "180/180 [==============================] - 0s 32us/step - loss: 0.0333 - acc: 0.9833 - val_loss: 0.3098 - val_acc: 0.9048\n",
      "Epoch 9/40\n",
      "180/180 [==============================] - 0s 29us/step - loss: 0.0333 - acc: 0.9833 - val_loss: 0.3102 - val_acc: 0.9048\n",
      "Epoch 10/40\n",
      "180/180 [==============================] - 0s 28us/step - loss: 0.0332 - acc: 0.9833 - val_loss: 0.3106 - val_acc: 0.9048\n",
      "Epoch 11/40\n",
      "180/180 [==============================] - 0s 28us/step - loss: 0.0332 - acc: 0.9833 - val_loss: 0.3109 - val_acc: 0.9048\n",
      "Epoch 12/40\n",
      "180/180 [==============================] - 0s 22us/step - loss: 0.0332 - acc: 0.9833 - val_loss: 0.3113 - val_acc: 0.9048\n",
      "Epoch 13/40\n",
      "180/180 [==============================] - 0s 46us/step - loss: 0.0331 - acc: 0.9833 - val_loss: 0.3117 - val_acc: 0.9048\n",
      "Epoch 14/40\n",
      "180/180 [==============================] - 0s 24us/step - loss: 0.0331 - acc: 0.9833 - val_loss: 0.3121 - val_acc: 0.9048\n",
      "Epoch 15/40\n",
      "180/180 [==============================] - 0s 42us/step - loss: 0.0331 - acc: 0.9833 - val_loss: 0.3124 - val_acc: 0.9048\n",
      "Epoch 16/40\n",
      "180/180 [==============================] - 0s 29us/step - loss: 0.0330 - acc: 0.9833 - val_loss: 0.3127 - val_acc: 0.9048\n",
      "Epoch 17/40\n",
      "180/180 [==============================] - 0s 37us/step - loss: 0.0330 - acc: 0.9833 - val_loss: 0.3130 - val_acc: 0.9048\n",
      "Epoch 18/40\n",
      "180/180 [==============================] - 0s 30us/step - loss: 0.0330 - acc: 0.9833 - val_loss: 0.3133 - val_acc: 0.9048\n",
      "Epoch 19/40\n",
      "180/180 [==============================] - 0s 32us/step - loss: 0.0329 - acc: 0.9833 - val_loss: 0.3137 - val_acc: 0.9048\n",
      "Epoch 20/40\n",
      "180/180 [==============================] - 0s 25us/step - loss: 0.0329 - acc: 0.9833 - val_loss: 0.3140 - val_acc: 0.9048\n",
      "Epoch 21/40\n",
      "180/180 [==============================] - 0s 29us/step - loss: 0.0329 - acc: 0.9833 - val_loss: 0.3143 - val_acc: 0.9048\n",
      "Epoch 22/40\n",
      "180/180 [==============================] - 0s 33us/step - loss: 0.0329 - acc: 0.9833 - val_loss: 0.3146 - val_acc: 0.9048\n",
      "Epoch 23/40\n",
      "180/180 [==============================] - 0s 22us/step - loss: 0.0328 - acc: 0.9833 - val_loss: 0.3149 - val_acc: 0.9048\n",
      "Epoch 24/40\n",
      "180/180 [==============================] - 0s 33us/step - loss: 0.0328 - acc: 0.9833 - val_loss: 0.3151 - val_acc: 0.9048\n",
      "Epoch 25/40\n",
      "180/180 [==============================] - 0s 24us/step - loss: 0.0328 - acc: 0.9833 - val_loss: 0.3154 - val_acc: 0.9048\n",
      "Epoch 26/40\n",
      "180/180 [==============================] - 0s 23us/step - loss: 0.0327 - acc: 0.9833 - val_loss: 0.3156 - val_acc: 0.9048\n",
      "Epoch 27/40\n",
      "180/180 [==============================] - 0s 35us/step - loss: 0.0327 - acc: 0.9833 - val_loss: 0.3158 - val_acc: 0.9048\n",
      "Epoch 28/40\n",
      "180/180 [==============================] - 0s 27us/step - loss: 0.0327 - acc: 0.9833 - val_loss: 0.3161 - val_acc: 0.9048\n",
      "Epoch 29/40\n",
      "180/180 [==============================] - 0s 32us/step - loss: 0.0326 - acc: 0.9833 - val_loss: 0.3163 - val_acc: 0.9048\n",
      "Epoch 30/40\n",
      "180/180 [==============================] - 0s 22us/step - loss: 0.0326 - acc: 0.9833 - val_loss: 0.3166 - val_acc: 0.9048\n",
      "Epoch 31/40\n",
      "180/180 [==============================] - 0s 57us/step - loss: 0.0326 - acc: 0.9833 - val_loss: 0.3168 - val_acc: 0.9048\n",
      "Epoch 32/40\n",
      "180/180 [==============================] - 0s 30us/step - loss: 0.0326 - acc: 0.9833 - val_loss: 0.3170 - val_acc: 0.9048\n",
      "Epoch 33/40\n",
      "180/180 [==============================] - 0s 43us/step - loss: 0.0325 - acc: 0.9833 - val_loss: 0.3173 - val_acc: 0.9048\n",
      "Epoch 34/40\n",
      "180/180 [==============================] - 0s 35us/step - loss: 0.0325 - acc: 0.9833 - val_loss: 0.3175 - val_acc: 0.9048\n",
      "Epoch 35/40\n",
      "180/180 [==============================] - 0s 26us/step - loss: 0.0325 - acc: 0.9833 - val_loss: 0.3177 - val_acc: 0.9048\n",
      "Epoch 36/40\n",
      "180/180 [==============================] - 0s 22us/step - loss: 0.0324 - acc: 0.9833 - val_loss: 0.3179 - val_acc: 0.9048\n",
      "Epoch 37/40\n",
      "180/180 [==============================] - 0s 54us/step - loss: 0.0324 - acc: 0.9833 - val_loss: 0.3182 - val_acc: 0.9048\n",
      "Epoch 38/40\n",
      "180/180 [==============================] - 0s 46us/step - loss: 0.0324 - acc: 0.9833 - val_loss: 0.3184 - val_acc: 0.9048\n",
      "Epoch 39/40\n",
      "180/180 [==============================] - 0s 26us/step - loss: 0.0324 - acc: 0.9833 - val_loss: 0.3187 - val_acc: 0.9048\n",
      "Epoch 40/40\n",
      "180/180 [==============================] - 0s 25us/step - loss: 0.0323 - acc: 0.9833 - val_loss: 0.3190 - val_acc: 0.9048\n"
     ]
    }
   ],
   "source": [
    "validation_split = 0.1\n",
    "history = model.fit(X_train, y_train_categorical, batch_size=X_train.shape[0], epochs=40, verbose=1,\n",
    "          validation_split=validation_split, shuffle=True)"
   ]
  },
  {
   "cell_type": "code",
   "execution_count": 36,
   "metadata": {},
   "outputs": [
    {
     "name": "stdout",
     "output_type": "stream",
     "text": [
      "True 'nothing' rate: 1.0\n",
      "True 'unarmed-attack-r3' rate: 0.9230769230769231\n"
     ]
    }
   ],
   "source": [
    "# Temporary way of computing true positive rate / false positive rate\n",
    "for i, word in enumerate(motions):\n",
    "    pred = model.predict(X_test[(y_test == i).reshape(y_test.shape[0],), :], batch_size=X_test.shape[0])\n",
    "    pred = pred.argmax(axis=-1)\n",
    "    print(\"True '{}' rate: {}\".format(word, sum(pred == i)/len(pred)))"
   ]
  },
  {
   "cell_type": "code",
   "execution_count": 37,
   "metadata": {},
   "outputs": [
    {
     "name": "stdout",
     "output_type": "stream",
     "text": [
      "23/23 [==============================] - 0s 81us/step\n",
      "\n",
      "test score: 0.95652174949646\n"
     ]
    }
   ],
   "source": [
    "result = model.evaluate(X_test, y_test_categorical)\n",
    "print('')\n",
    "print('test score: {}'.format(result[1]))"
   ]
  },
  {
   "cell_type": "code",
   "execution_count": 38,
   "metadata": {},
   "outputs": [],
   "source": [
    "EXPORT_NN = True\n",
    "if EXPORT_NN:\n",
    "    model.save('model/keras/model_{}motions.h5'.format(len(motions)))"
   ]
  }
 ],
 "metadata": {
  "kernelspec": {
   "display_name": "gesture_venv",
   "language": "python",
   "name": "gesture_venv"
  },
  "language_info": {
   "codemirror_mode": {
    "name": "ipython",
    "version": 3
   },
   "file_extension": ".py",
   "mimetype": "text/x-python",
   "name": "python",
   "nbconvert_exporter": "python",
   "pygments_lexer": "ipython3",
   "version": "3.6.1"
  },
  "notify_time": "5"
 },
 "nbformat": 4,
 "nbformat_minor": 2
}
